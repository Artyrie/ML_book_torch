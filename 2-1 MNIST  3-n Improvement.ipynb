{
 "cells": [
  {
   "cell_type": "code",
   "execution_count": 1,
   "metadata": {},
   "outputs": [],
   "source": [
    "import numpy as np\n",
    "import matplotlib.pyplot as plt\n",
    "import torch\n",
    "import torch.nn as nn\n",
    "import torch.nn.functional as F\n",
    "from torchvision import transforms, datasets"
   ]
  },
  {
   "cell_type": "markdown",
   "metadata": {},
   "source": [
    "## GPU"
   ]
  },
  {
   "cell_type": "code",
   "execution_count": 2,
   "metadata": {},
   "outputs": [
    {
     "name": "stdout",
     "output_type": "stream",
     "text": [
      "1.7.1 cuda\n"
     ]
    }
   ],
   "source": [
    "if torch.cuda.is_available() : \n",
    "    DEVICE = torch.device('cuda')\n",
    "else : \n",
    "    DEVICE = torch.device('cpu')\n",
    "\n",
    "print(torch.__version__, DEVICE)"
   ]
  },
  {
   "cell_type": "markdown",
   "metadata": {},
   "source": [
    "## Constant"
   ]
  },
  {
   "cell_type": "code",
   "execution_count": 3,
   "metadata": {},
   "outputs": [],
   "source": [
    "BATCH_SIZE = 32\n",
    "EPOCHS = 10"
   ]
  },
  {
   "cell_type": "markdown",
   "metadata": {},
   "source": [
    "## Data"
   ]
  },
  {
   "cell_type": "code",
   "execution_count": 4,
   "metadata": {},
   "outputs": [],
   "source": [
    "from six.moves import urllib    \n",
    "opener = urllib.request.build_opener()\n",
    "opener.addheaders = [('User-agent', 'Mozilla/5.0')]\n",
    "urllib.request.install_opener(opener)\n",
    "# Cludeflare Protection을 해결해야함\n",
    "\n",
    "train_dataset = datasets.MNIST(root = \"../data/MNIST\",\n",
    "                              train = True,\n",
    "                              download = True,\n",
    "                              transform = transforms.ToTensor())\n",
    "test_dataset = datasets.MNIST(root = \"../data/MNIST\",\n",
    "                             train = False,\n",
    "                             transform = transforms.ToTensor())\n",
    "\n",
    "# 데이터를 Mini-Batch 단위로 분리 지정\n",
    "train_loader = torch.utils.data.DataLoader(dataset = train_dataset,\n",
    "                                          batch_size = BATCH_SIZE,\n",
    "                                          shuffle = True)\n",
    "test_loader = torch.utils.data.DataLoader(dataset = test_dataset,\n",
    "                                         batch_size = BATCH_SIZE,\n",
    "                                         shuffle = False)"
   ]
  },
  {
   "cell_type": "markdown",
   "metadata": {},
   "source": [
    "## Data Check"
   ]
  },
  {
   "cell_type": "code",
   "execution_count": 5,
   "metadata": {},
   "outputs": [
    {
     "name": "stdout",
     "output_type": "stream",
     "text": [
      "X_train :  torch.Size([32, 1, 28, 28]) type :  torch.FloatTensor\n",
      "y_train :  torch.Size([32]) type :  torch.LongTensor\n"
     ]
    }
   ],
   "source": [
    "for(X_train, y_train) in train_loader : \n",
    "    print('X_train : ', X_train.size(), 'type : ', X_train.type())\n",
    "    print('y_train : ', y_train.size(), 'type : ', y_train.type())\n",
    "    break"
   ]
  },
  {
   "cell_type": "code",
   "execution_count": 6,
   "metadata": {},
   "outputs": [
    {
     "data": {
      "image/png": "[encoded data removed]",
      "text/plain": [
       "<Figure size 720x72 with 10 Axes>"
      ]
     },
     "metadata": {
      "needs_background": "light"
     },
     "output_type": "display_data"
    }
   ],
   "source": [
    "pltsize = 1\n",
    "plt.figure (figsize = (10 * pltsize, pltsize))\n",
    "\n",
    "for i in range(10) : \n",
    "    plt.subplot(1, 10, i + 1)\n",
    "    plt.axis('off')\n",
    "    plt.imshow(X_train[i, :, :, :].numpy().reshape(28, 28), cmap = 'gray_r')\n",
    "    plt.title( str(y_train[i].item()))"
   ]
  },
  {
   "cell_type": "markdown",
   "metadata": {},
   "source": [
    "## MLP Model"
   ]
  },
  {
   "cell_type": "code",
   "execution_count": 7,
   "metadata": {},
   "outputs": [],
   "source": [
    "class Net(nn.Module) : \n",
    "    def __init__(self) : \n",
    "        super(Net, self).__init__()\n",
    "        self.fc1 = nn.Linear(28 * 28, 512)\n",
    "        self.fc2 = nn.Linear(512, 256)\n",
    "        self.fc3 = nn.Linear(256, 10)\n",
    "        self.dropout_prob = 0.5\n",
    "        self.batch_norm1 = nn.BatchNorm1d(512)\n",
    "        self.batch_norm2 = nn.BatchNorm1d(256)\n",
    "        \n",
    "    def forward(self, x) : \n",
    "        x = x.view(-1, 28 * 28) # Flatten 과정\n",
    "        x = self.fc1(x)\n",
    "        x = self.batch_norm1(x) # fc 전에도 가능\n",
    "        x = F.relu(x) # activation function 85p\n",
    "        x = F.dropout(x, training = self.training, p = self.dropout_prob)\n",
    "        x = self.fc2(x)\n",
    "        x = self.batch_norm2(x)\n",
    "        x = F.relu(x)\n",
    "        x = F.dropout(x, training = self.training, p = self.dropout_prob)\n",
    "        x = self.fc3(x)\n",
    "        x = F.log_softmax(x, dim = 1) # Log_softmax로 Grad를 좀 더 원활히 계산함 (Log 그래프 특성)\n",
    "        return x"
   ]
  },
  {
   "cell_type": "code",
   "execution_count": 8,
   "metadata": {},
   "outputs": [],
   "source": [
    "import torch.nn.init as init\n",
    "def weight_init(m) : \n",
    "    if isinstance(m, nn.Linear) : \n",
    "        init.kaiming_uniform_(m.weight.data)"
   ]
  },
  {
   "cell_type": "code",
   "execution_count": 9,
   "metadata": {},
   "outputs": [
    {
     "name": "stdout",
     "output_type": "stream",
     "text": [
      "Net(\n",
      "  (fc1): Linear(in_features=784, out_features=512, bias=True)\n",
      "  (fc2): Linear(in_features=512, out_features=256, bias=True)\n",
      "  (fc3): Linear(in_features=256, out_features=10, bias=True)\n",
      "  (batch_norm1): BatchNorm1d(512, eps=1e-05, momentum=0.1, affine=True, track_running_stats=True)\n",
      "  (batch_norm2): BatchNorm1d(256, eps=1e-05, momentum=0.1, affine=True, track_running_stats=True)\n",
      ")\n"
     ]
    }
   ],
   "source": [
    "model = Net().to(DEVICE)\n",
    "model.apply(weight_init)\n",
    "optimizer = torch.optim.Adam(model.parameters(), lr = 0.01)\n",
    "criterion = nn.CrossEntropyLoss()\n",
    "\n",
    "print(model)"
   ]
  },
  {
   "cell_type": "markdown",
   "metadata": {},
   "source": [
    "## Train"
   ]
  },
  {
   "cell_type": "code",
   "execution_count": 10,
   "metadata": {},
   "outputs": [],
   "source": [
    "def train(model, train_loader, optimizer, log_interval) : \n",
    "    model.train()\n",
    "    \n",
    "    for batch_idx, (image, label) in enumerate(train_loader) : \n",
    "        image = image.to(DEVICE)\n",
    "        label = label.to(DEVICE)\n",
    "        optimizer.zero_grad()\n",
    "        output = model(image)\n",
    "        loss = criterion(output, label)\n",
    "        loss.backward()\n",
    "        optimizer.step()\n",
    "        \"\"\"\n",
    "        if batch_idx % log_interval == 0 :\n",
    "            print(\"Train Epoch : {} [{}/{}({:.0f}%)]\\tTrain Loss : {:.6f}\".format(Epoch,\n",
    "                                                                                  batch_idx * len(image),\n",
    "                                                                                 len(train_loader.dataset),\n",
    "                                                                                 100. * batch_idx / len(train_loader),\n",
    "                                                                                 loss.item()))\"\"\""
   ]
  },
  {
   "cell_type": "code",
   "execution_count": 11,
   "metadata": {},
   "outputs": [],
   "source": [
    "def evaluate(model, test_loader) : \n",
    "    model.eval()\n",
    "    test_loss = 0\n",
    "    correct = 0\n",
    "    \n",
    "    with torch.no_grad() : \n",
    "        for image, label in test_loader : \n",
    "            image = image.to(DEVICE)\n",
    "            label = label.to(DEVICE)\n",
    "            output = model(image)\n",
    "            test_loss += criterion(output, label).item()\n",
    "            prediction = output.max(1, keepdim = True)[1]\n",
    "            correct += prediction.eq(label.view_as(prediction)).sum().item()\n",
    "        \n",
    "    test_loss /= len(test_loader.dataset)\n",
    "    test_accuracy = 100. * correct / len(test_loader.dataset)\n",
    "    return test_loss, test_accuracy"
   ]
  },
  {
   "cell_type": "code",
   "execution_count": 12,
   "metadata": {},
   "outputs": [
    {
     "name": "stdout",
     "output_type": "stream",
     "text": [
      "\n",
      "[EPOCH : 1], \tTest Loss : 0.0042, \tTest Accuracy : 96.14 %\n",
      "\n",
      "\n",
      "[EPOCH : 2], \tTest Loss : 0.0032, \tTest Accuracy : 96.93 %\n",
      "\n",
      "\n",
      "[EPOCH : 3], \tTest Loss : 0.0031, \tTest Accuracy : 97.00 %\n",
      "\n",
      "\n",
      "[EPOCH : 4], \tTest Loss : 0.0029, \tTest Accuracy : 97.11 %\n",
      "\n",
      "\n",
      "[EPOCH : 5], \tTest Loss : 0.0025, \tTest Accuracy : 97.50 %\n",
      "\n",
      "\n",
      "[EPOCH : 6], \tTest Loss : 0.0022, \tTest Accuracy : 97.87 %\n",
      "\n",
      "\n",
      "[EPOCH : 7], \tTest Loss : 0.0024, \tTest Accuracy : 97.66 %\n",
      "\n",
      "\n",
      "[EPOCH : 8], \tTest Loss : 0.0022, \tTest Accuracy : 97.85 %\n",
      "\n",
      "\n",
      "[EPOCH : 9], \tTest Loss : 0.0023, \tTest Accuracy : 97.92 %\n",
      "\n",
      "\n",
      "[EPOCH : 10], \tTest Loss : 0.0020, \tTest Accuracy : 97.97 %\n",
      "\n"
     ]
    }
   ],
   "source": [
    "for Epoch in range(1, EPOCHS + 1) :\n",
    "    train(model, train_loader, optimizer, log_interval = 200)\n",
    "    test_loss, test_accuracy = evaluate(model, test_loader)\n",
    "    print(\"\\n[EPOCH : {}], \\tTest Loss : {:.4f}, \\tTest Accuracy : {:.2f} %\\n\".format(Epoch,\n",
    "                                                                                     test_loss,\n",
    "                                                                                     test_accuracy))"
   ]
  },
  {
   "cell_type": "markdown",
   "metadata": {},
   "source": [
    "## Result\n",
    "\n",
    "* ReLU - 97.41%, 0.0027\n",
    "* BN - 98.05%, 0.0019\n",
    "* HI - 97.19%, 0.0028\n",
    "* Adam - 97.97%, 0.0020\n",
    "\n",
    "Dropout - Generalization 효과, Ensemble과 비슷한 역할 80p <br>\n",
    "ReLU - Vanishing Gradient Problem 완화 85p <br>\n",
    "Batch Normalization - 히든 레이어의 비선형 함수 적용을 위해서 필요 89p <br>\n",
    "He Initialization - 전역 최솟값 찾는데 유리함을 얻기 위해 적용 92p <br>\n",
    "Adam - RMSProp에서 Momentum 방식의 특징을 결합한 방식 95p <br>\n",
    "<hr>\n",
    "RMSProp - 가보지 않은 곳은 많이 움직이고 가본 곳은 적게 움지깅는 Optimization 방식 <br>\n",
    "RAdam - Adaptive Learning Rate Term의 분산을 교정하여 lr에 무관하게 비슷한 성능을 만듬 <br>"
   ]
  },
  {
   "cell_type": "code",
   "execution_count": null,
   "metadata": {},
   "outputs": [],
   "source": []
  }
 ],
 "metadata": {
  "kernelspec": {
   "display_name": "Python 3",
   "language": "python",
   "name": "python3"
  },
  "language_info": {
   "codemirror_mode": {
    "name": "ipython",
    "version": 3
   },
   "file_extension": ".py",
   "mimetype": "text/x-python",
   "name": "python",
   "nbconvert_exporter": "python",
   "pygments_lexer": "ipython3",
   "version": "3.7.9"
  }
 },
 "nbformat": 4,
 "nbformat_minor": 4
}
